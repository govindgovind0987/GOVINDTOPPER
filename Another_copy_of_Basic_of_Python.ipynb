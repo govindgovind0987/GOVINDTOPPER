{
  "nbformat": 4,
  "nbformat_minor": 0,
  "metadata": {
    "colab": {
      "provenance": [],
      "include_colab_link": true
    },
    "kernelspec": {
      "name": "python3",
      "display_name": "Python 3"
    },
    "language_info": {
      "name": "python"
    }
  },
  "cells": [
    {
      "cell_type": "markdown",
      "metadata": {
        "id": "view-in-github",
        "colab_type": "text"
      },
      "source": [
        "<a href=\"https://colab.research.google.com/github/govindgovind0987/GOVINDTOPPER/blob/main/Another_copy_of_Basic_of_Python.ipynb\" target=\"_parent\"><img src=\"https://colab.research.google.com/assets/colab-badge.svg\" alt=\"Open In Colab\"/></a>"
      ]
    },
    {
      "cell_type": "markdown",
      "source": [
        "#Python\n"
      ],
      "metadata": {
        "id": "oPD19rYQ3Kdf"
      }
    },
    {
      "cell_type": "markdown",
      "source": [
        "                        \n",
        "#  Interductin to Python\n",
        "\n",
        "* **Python is an object orented and open source language developead in the 1980s by dutchman Guido van rossun.**\n",
        "* **van rossum used to work at CWI as in implementer of the programming lauguage call ABC.**\n",
        "***van rossum started lokking for a scripting launguages with a syntax like ABC.**\n",
        "* **Back in 1970s there was A POPULAR BBC comedy tv show called Monty pythons fly circus and van rossum happend to be the big fan of that show .**\n",
        "\n",
        "\n",
        "# Use of python\n",
        "\n",
        "**Web Development:**\n",
        "\n",
        "Frameworks like Django and Flask help in building web applications efficiently.\n",
        "\n",
        "Python can be used on a server to create web applicatins.\n",
        "\n",
        "**Data Analysis and Visualization:**\n",
        "\n",
        "Libraries like Pandas, NumPy, Matplotlib, and Seaborn make it easy to analyze and visualize data.\n",
        "\n",
        "**Game Development:**\n",
        "\n",
        "Libraries such as Pygame provide functionality for game development.\n",
        "\n",
        "\n",
        "**Education:**\n",
        "\n",
        "Python’s simplicity makes it a great language for teaching programming and computer science.\n",
        "\n",
        "\n",
        "**Robotics:**\n",
        "\n",
        "Python is used in robotics for developing algorithms, controlling hardware, and interfacing with sensors.**\n",
        "\n",
        "\n",
        "**Finance:**\n",
        "\n",
        "Used for quantitative finance, algorithmic trading, and financial data analysis.\n"
      ],
      "metadata": {
        "id": "3_g-eGCuszy2"
      }
    },
    {
      "cell_type": "markdown",
      "source": [
        "# Advantages of Python"
      ],
      "metadata": {
        "id": "wZAGMBHa3I8K"
      }
    },
    {
      "cell_type": "markdown",
      "source": [
        "**Easy to Read and Write:**\n",
        "\n",
        "Python has a simple syntax that mimics natural language, making it easier to read and write compared to other programming languages.\n",
        "\n",
        "**Interpreted Language:**\n",
        "\n",
        "Python is an interpreted language, which means that code can be executed line by line, making debugging and testing easier.\n",
        "\n",
        "**Integration Capabilities:**\n",
        "\n",
        "Python can easily integrate with other languages and technologies, such as C, C++, Java, and .NET, as well as with web services and APIs.\n",
        "\n",
        "**Educational Language:**\n",
        "\n",
        "Python is often recommended as the first programming language for beginners due to its simplicity and readability, making it an excellent language for educational purposes."
      ],
      "metadata": {
        "id": "IaG61Njr5bNv"
      }
    },
    {
      "cell_type": "markdown",
      "source": [
        "# Comments in Python"
      ],
      "metadata": {
        "id": "ePbwIGlO_JVz"
      }
    },
    {
      "cell_type": "markdown",
      "source": [
        "# Single-line Comments:\n",
        "\n",
        "Single-line comments start with the hash symbol \"#\" and extend to the end of the line."
      ],
      "metadata": {
        "id": "ROtpcIKX_huQ"
      }
    },
    {
      "cell_type": "code",
      "source": [
        "# This is a single-line comment\n",
        "print(\"Hello, World!\")  # This is another single-line comment\n"
      ],
      "metadata": {
        "id": "9E1QtOQB_q4B"
      },
      "execution_count": null,
      "outputs": []
    },
    {
      "cell_type": "markdown",
      "source": [
        "# Multi-line Comments:\n",
        "\n",
        "Multi-line comments can be created using triple quotes (''' or \"\"\"). Although these are technically string literals, they can be used as comments when not assigned to a variable or used in expressions."
      ],
      "metadata": {
        "id": "YjlRTH7P_uzJ"
      }
    },
    {
      "cell_type": "code",
      "source": [
        "'''\n",
        "This is a multi-line comment.\n",
        "It can span multiple lines.\n",
        "'''\n",
        "print(\"Hello, World!\")\n",
        "\n",
        "\"\"\"\n",
        "Another way to write a multi-line comment.\n",
        "Useful for larger comments.\n",
        "\"\"\"\n",
        "print(\"Hello, again!\")\n"
      ],
      "metadata": {
        "id": "4FOJ-KE9AI5q"
      },
      "execution_count": null,
      "outputs": []
    },
    {
      "cell_type": "markdown",
      "source": [
        "#The Program Development Life Cycle (PDLC)"
      ],
      "metadata": {
        "id": "Xm9N9zgKBX9g"
      }
    },
    {
      "cell_type": "markdown",
      "source": [
        "\n",
        "**Analysis:**\n",
        "\n",
        "* Gather detailed requirements and understand the problem domain.\n",
        "* Identify inputs, processes, and outputs.\n",
        "\n",
        "**Design:**\n",
        "\n",
        "* Develop a detailed plan for the program’s architecture.\n",
        "* Create algorithms, flowcharts, and pseudocode to outline the program logic.\n",
        "\n",
        "**Coding/Implementation:**\n",
        "\n",
        "* Write the actual code in Python based on the design specifications.\n",
        "\n",
        "**Testing:**\n",
        "\n",
        "* Test the program to find and fix errors (bugs).\n",
        "\n",
        "\n",
        "\n",
        "**Debugging:**\n",
        "\n",
        "* Identify and correct defects in the code.\n",
        "* Use debugging tools and techniques, such as print statements, logging, or Python debuggers (pdb).\n",
        "\n",
        "**Deployment:**\n",
        "\n",
        "* Prepare the program for release.\n",
        "* Create installation packages, if necessary.\n",
        "* Deploy the program to the production environment.\n",
        "\n",
        "**Maintenance:**\n",
        "\n",
        "* Monitor the program’s performance and fix any issues that arise.\n",
        "* Update the program to accommodate changes in requirements or the environment.\n",
        "* Provide user support and documentation."
      ],
      "metadata": {
        "id": "qKiqWR06Bae-"
      }
    },
    {
      "cell_type": "markdown",
      "source": [
        "# Keywordes"
      ],
      "metadata": {
        "id": "eKiCzjXqC8bh"
      }
    },
    {
      "cell_type": "markdown",
      "source": [
        "\n",
        "In Python, keywords are reserved words that have special meaning and are used to define the syntax and structure of the Python language. These keywords cannot be used as identifiers (variable names, function names, etc.). There are 35 key wordes,Here's a list of Python keywords:\n",
        "\n",
        "False\n",
        "\n",
        "None        \n",
        "\n",
        "True        \n",
        "\n",
        "and       \n",
        "\n",
        "as        \n",
        "\n",
        "assert\n",
        "\n",
        "async\n",
        "\n",
        "await\n",
        "\n",
        "break\n",
        "\n",
        "class\n",
        "\n",
        "continue\n",
        "\n",
        "def\n",
        "\n",
        "del\n",
        "\n",
        "elif\n",
        "\n",
        "else\n",
        "\n",
        "except\n",
        "\n",
        "finally\n",
        "\n",
        "for\n",
        "\n",
        "from\n",
        "\n",
        "global\n",
        "\n",
        "if\n",
        "\n",
        "import\n",
        "\n",
        "in\n",
        "\n",
        "is\n",
        "\n",
        "lambda\n",
        "\n",
        "nonlocal\n",
        "\n",
        "not\n",
        "\n",
        "or\n",
        "\n",
        "pass\n",
        "\n",
        "raise\n",
        "\n",
        "return\n",
        "\n",
        "try\n",
        "\n",
        "while\n",
        "\n",
        "with\n",
        "\n",
        "yield\n",
        "\n",
        "\n",
        "\n",
        "\n",
        "\n",
        "\n"
      ],
      "metadata": {
        "id": "ILuWgbYUDRKT"
      }
    },
    {
      "cell_type": "markdown",
      "source": [
        "# Identifiers or variables"
      ],
      "metadata": {
        "id": "zDPoDNJ5FSc3"
      }
    },
    {
      "cell_type": "markdown",
      "source": [
        "\n",
        "Identifiers in Python are names used to identify a variable, function, class, module, or other objects. They are user-defined names used to represent elements in the code. Here are the rules and conventions for naming identifiers in Python:"
      ],
      "metadata": {
        "id": "aORKvQqRFU_M"
      }
    },
    {
      "cell_type": "markdown",
      "source": [
        "# Rules for Naming Identifiers"
      ],
      "metadata": {
        "id": "RkY4IU3LFjAH"
      }
    },
    {
      "cell_type": "markdown",
      "source": [
        "\n",
        "**Allowed Characters:**\n",
        "\n",
        "* Identifiers can consist of letters (both uppercase and lowercase), digits (0-9), and underscores (_).\n",
        "* They cannot start with a digit."
      ],
      "metadata": {
        "id": "ij72uKf5Fk7Q"
      }
    },
    {
      "cell_type": "code",
      "source": [
        "a1 = 10  # Valid\n",
        "_a = 20  # Valid\n",
        "print(a1)\n",
        "print(_a)\n",
        "\n"
      ],
      "metadata": {
        "id": "KS0grTQjFzFu",
        "colab": {
          "base_uri": "https://localhost:8080/"
        },
        "outputId": "fc8d260f-33e6-41ad-ba36-cbd1dd7e65ca"
      },
      "execution_count": null,
      "outputs": [
        {
          "output_type": "stream",
          "name": "stdout",
          "text": [
            "10\n",
            "20\n"
          ]
        }
      ]
    },
    {
      "cell_type": "code",
      "source": [
        "1a = 30  # Invalid"
      ],
      "metadata": {
        "id": "_45KXBxoZ1kh"
      },
      "execution_count": null,
      "outputs": []
    },
    {
      "cell_type": "markdown",
      "source": [
        "**Keywords:**\n",
        "\n",
        "* Identifiers cannot be the same as Python keywords (reserved words) like if, else, for, while, etc"
      ],
      "metadata": {
        "id": "oeOQuLbCGVA1"
      }
    },
    {
      "cell_type": "code",
      "source": [
        "for = 10  # Invalid\n",
        "For = 20  # Valid, but not recommended\n",
        "print(For)\n"
      ],
      "metadata": {
        "id": "7CUG_kVyGdcv",
        "colab": {
          "base_uri": "https://localhost:8080/",
          "height": 106
        },
        "outputId": "2a48948b-ebe4-47eb-93f3-3d486b9263e5"
      },
      "execution_count": null,
      "outputs": [
        {
          "output_type": "error",
          "ename": "SyntaxError",
          "evalue": "invalid syntax (<ipython-input-2-4e9047152468>, line 1)",
          "traceback": [
            "\u001b[0;36m  File \u001b[0;32m\"<ipython-input-2-4e9047152468>\"\u001b[0;36m, line \u001b[0;32m1\u001b[0m\n\u001b[0;31m    for = 10  # Invalid\u001b[0m\n\u001b[0m        ^\u001b[0m\n\u001b[0;31mSyntaxError\u001b[0m\u001b[0;31m:\u001b[0m invalid syntax\n"
          ]
        }
      ]
    },
    {
      "cell_type": "markdown",
      "source": [
        "**No Spaces:**\n",
        "\n",
        "* Identifiers cannot contain spaces. Use underscores to separate words."
      ],
      "metadata": {
        "id": "mBE-skLVGgi3"
      }
    },
    {
      "cell_type": "code",
      "source": [
        "my_variable = 10  # Valid\n",
        "my variable = 20  # Invalid\n"
      ],
      "metadata": {
        "id": "rZzvKKB8Gl8U"
      },
      "execution_count": null,
      "outputs": []
    },
    {
      "cell_type": "markdown",
      "source": [
        "# Assignment in variables"
      ],
      "metadata": {
        "id": "wEeGnc8jGshE"
      }
    },
    {
      "cell_type": "code",
      "source": [
        "k=10 #Assignment\n",
        "k=20 #re Assignment\n",
        "k,t=20,30 #Multiple Assignment\n",
        "a=b=c=10 #Multiple Assignment\n"
      ],
      "metadata": {
        "id": "oNzf-yVLHVM_"
      },
      "execution_count": null,
      "outputs": []
    },
    {
      "cell_type": "markdown",
      "source": [
        "# Python operators"
      ],
      "metadata": {
        "id": "pjeV51kYHzat"
      }
    },
    {
      "cell_type": "markdown",
      "source": [
        "Python operators are special symbols or keywords that perform operations on variables and values. They are used to perform arithmetic, comparison, logical, and bitwise operations. Here’s a summary of the different types of operators in Python:"
      ],
      "metadata": {
        "id": "FVsix1H1ILNs"
      }
    },
    {
      "cell_type": "markdown",
      "source": [
        "**1 Arithmetic Operators**\n",
        "\n",
        "These operators are used for basic arithmetic operations.\n",
        "\n",
        "Addition (+): Adds two values."
      ],
      "metadata": {
        "id": "MQzvRzs7IMa6"
      }
    },
    {
      "cell_type": "code",
      "source": [
        "x = 5 + 3  # x is 8\n"
      ],
      "metadata": {
        "id": "tK82W6YvIS2s"
      },
      "execution_count": null,
      "outputs": []
    },
    {
      "cell_type": "markdown",
      "source": [
        "Subtraction (-): Subtracts the second value from the first."
      ],
      "metadata": {
        "id": "6fI4j-RzIVFE"
      }
    },
    {
      "cell_type": "code",
      "source": [
        "x = 10 - 4  # x is 6\n"
      ],
      "metadata": {
        "id": "8smOlGnwIp2H"
      },
      "execution_count": null,
      "outputs": []
    },
    {
      "cell_type": "markdown",
      "source": [
        "Multiplication (*): Multiplies two values."
      ],
      "metadata": {
        "id": "I-2WtiOjIZAQ"
      }
    },
    {
      "cell_type": "code",
      "source": [
        "x = 7 * 6  # x is 42\n"
      ],
      "metadata": {
        "id": "KqavtAC8IrEM"
      },
      "execution_count": null,
      "outputs": []
    },
    {
      "cell_type": "markdown",
      "source": [
        "Division (/): Divides the first value by the second, returns a float."
      ],
      "metadata": {
        "id": "ynubyc9cIeG7"
      }
    },
    {
      "cell_type": "code",
      "source": [
        "x = 15 / 3  # x is 5.0\n"
      ],
      "metadata": {
        "id": "XnvJxtqSItYX"
      },
      "execution_count": null,
      "outputs": []
    },
    {
      "cell_type": "markdown",
      "source": [
        "Floor Division (//): Divides the first value by the second, returns an integer (removes the decimal part)."
      ],
      "metadata": {
        "id": "FhdI0VQaIhIM"
      }
    },
    {
      "cell_type": "code",
      "source": [
        "x = 15 // 4  # x is 3\n"
      ],
      "metadata": {
        "id": "wcKHVQltIwtO"
      },
      "execution_count": null,
      "outputs": []
    },
    {
      "cell_type": "markdown",
      "source": [
        "Modulus (%): Returns the remainder of division."
      ],
      "metadata": {
        "id": "RqRmz_nHIjRU"
      }
    },
    {
      "cell_type": "code",
      "source": [
        "x = 10 % 3  # x is 1\n"
      ],
      "metadata": {
        "id": "9z6I0TFtIyqJ"
      },
      "execution_count": null,
      "outputs": []
    },
    {
      "cell_type": "markdown",
      "source": [
        "Exponentiation (**): Raises the first value to the power of the second."
      ],
      "metadata": {
        "id": "jIp9twoiInBu"
      }
    },
    {
      "cell_type": "code",
      "source": [
        "x = 2 ** 3  # x is 8\n"
      ],
      "metadata": {
        "id": "IRmZ4O7NI0z5"
      },
      "execution_count": null,
      "outputs": []
    },
    {
      "cell_type": "markdown",
      "source": [
        "**2 Relational Operators**\n",
        "\n",
        "These operators compare two values and return a boolean result (True or False).\n",
        "\n",
        "Equal to (==): Checks if two values are equal."
      ],
      "metadata": {
        "id": "Z6KE8TNQI_U8"
      }
    },
    {
      "cell_type": "code",
      "source": [
        "x = (5 == 5)  # x is True\n"
      ],
      "metadata": {
        "id": "83zCG83CJLmM"
      },
      "execution_count": null,
      "outputs": []
    },
    {
      "cell_type": "markdown",
      "source": [
        "Not equal to (!=): Checks if two values are not equal."
      ],
      "metadata": {
        "id": "xRXHCCdvJOTN"
      }
    },
    {
      "cell_type": "code",
      "source": [
        "x = (5 != 3)  # x is True\n"
      ],
      "metadata": {
        "id": "J-g7jKfdJQGR"
      },
      "execution_count": null,
      "outputs": []
    },
    {
      "cell_type": "markdown",
      "source": [
        "Greater than (>): Checks if the first value is greater than the second."
      ],
      "metadata": {
        "id": "TF_Gp7mpJSon"
      }
    },
    {
      "cell_type": "code",
      "source": [
        "x = (7 > 5)  # x is True\n"
      ],
      "metadata": {
        "id": "54R1cu8_JUeA"
      },
      "execution_count": null,
      "outputs": []
    },
    {
      "cell_type": "markdown",
      "source": [
        "Less than (<): Checks if the first value is less than the second.\n",
        "\n",
        "\n"
      ],
      "metadata": {
        "id": "d-rObcOPJXb3"
      }
    },
    {
      "cell_type": "code",
      "source": [
        "x = (3 < 5)  # x is True\n"
      ],
      "metadata": {
        "id": "p-P0iWzAJd0_"
      },
      "execution_count": null,
      "outputs": []
    },
    {
      "cell_type": "markdown",
      "source": [
        "Greater than or equal to (>=): Checks if the first value is greater than or equal to the second."
      ],
      "metadata": {
        "id": "ahMmlbjsJfZ2"
      }
    },
    {
      "cell_type": "code",
      "source": [
        "x = (5 >= 5)  # x is True\n"
      ],
      "metadata": {
        "id": "jnCKClXqJj0V"
      },
      "execution_count": null,
      "outputs": []
    },
    {
      "cell_type": "markdown",
      "source": [
        "Less than or equal to (<=): Checks if the first value is less than or equal to the second."
      ],
      "metadata": {
        "id": "tt4GD2yWJl8W"
      }
    },
    {
      "cell_type": "code",
      "source": [
        "x = (4 <= 5)  # x is True\n"
      ],
      "metadata": {
        "id": "b80lkAT8Joks"
      },
      "execution_count": null,
      "outputs": []
    },
    {
      "cell_type": "markdown",
      "source": [
        " **3 Logical Operators**\n",
        "\n",
        "These operators are used to combine conditional statements.\n",
        "\n",
        "And (and): Returns True if both conditions are true."
      ],
      "metadata": {
        "id": "V11qWg2CJqVw"
      }
    },
    {
      "cell_type": "code",
      "source": [
        "x = (5 > 3) and (8 > 6)  # x is True\n"
      ],
      "metadata": {
        "id": "W38obBTMKH19"
      },
      "execution_count": null,
      "outputs": []
    },
    {
      "cell_type": "markdown",
      "source": [
        "Or (or): Returns True if at least one of the conditions is true."
      ],
      "metadata": {
        "id": "syjBv0A_KMKA"
      }
    },
    {
      "cell_type": "code",
      "source": [
        "x = (5 > 3) or (8 < 6)  # x is True\n"
      ],
      "metadata": {
        "id": "1oXL7TguKM-w"
      },
      "execution_count": null,
      "outputs": []
    },
    {
      "cell_type": "markdown",
      "source": [
        "Not (not): Returns True if the condition is false."
      ],
      "metadata": {
        "id": "rhYcTQ1cKONd"
      }
    },
    {
      "cell_type": "code",
      "source": [
        "x = not (5 > 3)  # x is False\n"
      ],
      "metadata": {
        "id": "TGW-gyIAKSGu"
      },
      "execution_count": null,
      "outputs": []
    },
    {
      "cell_type": "markdown",
      "source": [
        "**4 Bitwise Operators**\n",
        "\n",
        "These operators perform bit-level operations.\n",
        "\n",
        "AND (&): Performs a bitwise AND operation."
      ],
      "metadata": {
        "id": "A4k06Gx7KXXm"
      }
    },
    {
      "cell_type": "code",
      "source": [
        "x = 5 & 3  # x is 1 (binary 0101 & 0011)\n"
      ],
      "metadata": {
        "id": "JeYw1NbdKccU"
      },
      "execution_count": null,
      "outputs": []
    },
    {
      "cell_type": "markdown",
      "source": [
        "OR (|): Performs a bitwise OR operation."
      ],
      "metadata": {
        "id": "Eb3eK-llKeAK"
      }
    },
    {
      "cell_type": "code",
      "source": [
        "x = 5 | 3  # x is 7 (binary 0101 | 0011)"
      ],
      "metadata": {
        "id": "LH-pRMnpKgDQ"
      },
      "execution_count": null,
      "outputs": []
    },
    {
      "cell_type": "markdown",
      "source": [
        "XOR (^): Performs a bitwise XOR operation."
      ],
      "metadata": {
        "id": "7yCRbF6ZKhp0"
      }
    },
    {
      "cell_type": "code",
      "source": [
        "x = 5 ^ 3  # x is 6 (binary 0101 ^ 0011)"
      ],
      "metadata": {
        "id": "lhdic97sKjYO"
      },
      "execution_count": null,
      "outputs": []
    },
    {
      "cell_type": "markdown",
      "source": [
        "NOT (~): Performs a bitwise NOT operation (inverts the bits)."
      ],
      "metadata": {
        "id": "GKTgQ_HLKo7l"
      }
    },
    {
      "cell_type": "code",
      "source": [
        "x = ~5  # x is -6 (binary ~0101)\n",
        "x"
      ],
      "metadata": {
        "id": "TYNEoEMcKps5",
        "outputId": "ec33609a-05b6-46a9-bc50-a038571d2b7a",
        "colab": {
          "base_uri": "https://localhost:8080/"
        }
      },
      "execution_count": null,
      "outputs": [
        {
          "output_type": "execute_result",
          "data": {
            "text/plain": [
              "-6"
            ]
          },
          "metadata": {},
          "execution_count": 5
        }
      ]
    },
    {
      "cell_type": "markdown",
      "source": [
        "Left Shift (<<): Shifts the bits to the left."
      ],
      "metadata": {
        "id": "TxuZMjwbKq-x"
      }
    },
    {
      "cell_type": "code",
      "source": [
        "x = 5 << 1  # x is 10 (binary 0101 << 1)\n"
      ],
      "metadata": {
        "id": "RFaMJomMKtIk"
      },
      "execution_count": null,
      "outputs": []
    },
    {
      "cell_type": "markdown",
      "source": [
        "Right Shift (>>): Shifts the bits to the right."
      ],
      "metadata": {
        "id": "WUxieUF4KwF8"
      }
    },
    {
      "cell_type": "code",
      "source": [
        "x = 5 >> 1  # x is 2 (binary 0101 >> 1)\n"
      ],
      "metadata": {
        "id": "kiDtma0OKyOc"
      },
      "execution_count": null,
      "outputs": []
    },
    {
      "cell_type": "markdown",
      "source": [
        "**5 Assignment Operators**\n",
        "\n",
        "These operators are used to assign values to variables.\n",
        "\n",
        "Assign (=): Assigns a value to a variable."
      ],
      "metadata": {
        "id": "Q2wneAu-K1or"
      }
    },
    {
      "cell_type": "code",
      "source": [
        "x = 10\n"
      ],
      "metadata": {
        "id": "SUd8gQzwK6Si"
      },
      "execution_count": null,
      "outputs": []
    },
    {
      "cell_type": "markdown",
      "source": [
        "Add and Assign (+=): Adds and assigns a value to a variable."
      ],
      "metadata": {
        "id": "qjoIPoD3K8cl"
      }
    },
    {
      "cell_type": "code",
      "source": [
        "x += 5  # Equivalent to x = x + 5\n"
      ],
      "metadata": {
        "id": "HGrarKo5K-OA"
      },
      "execution_count": null,
      "outputs": []
    },
    {
      "cell_type": "markdown",
      "source": [
        "Subtract and Assign (-=): Subtracts and assigns a value to a variable."
      ],
      "metadata": {
        "id": "KkapwBSaLBYm"
      }
    },
    {
      "cell_type": "code",
      "source": [
        "x -= 2  # Equivalent to x = x - 2\n"
      ],
      "metadata": {
        "id": "HyX_7WWhLB97"
      },
      "execution_count": null,
      "outputs": []
    },
    {
      "cell_type": "markdown",
      "source": [
        "Multiply and Assign (*=): Multiplies and assigns a value to a variable."
      ],
      "metadata": {
        "id": "QhNX6mZhLD-n"
      }
    },
    {
      "cell_type": "code",
      "source": [
        "x *= 3  # Equivalent to x = x * 3\n"
      ],
      "metadata": {
        "id": "CWQT5YgELHe7"
      },
      "execution_count": null,
      "outputs": []
    },
    {
      "cell_type": "markdown",
      "source": [
        "Divide and Assign (/=): Divides and assigns a value to a variable."
      ],
      "metadata": {
        "id": "-yN9VR1BLJx5"
      }
    },
    {
      "cell_type": "code",
      "source": [
        "x /= 4  # Equivalent to x = x / 4\n"
      ],
      "metadata": {
        "id": "9cEZxl4tLLM_"
      },
      "execution_count": null,
      "outputs": []
    },
    {
      "cell_type": "markdown",
      "source": [
        "Modulus and Assign (%=): Applies modulus and assigns a value to a variable"
      ],
      "metadata": {
        "id": "3oqFDDeFLN3T"
      }
    },
    {
      "cell_type": "code",
      "source": [
        "x %= 2  # Equivalent to x = x % 2\n"
      ],
      "metadata": {
        "id": "JSjNU6cuLPlt"
      },
      "execution_count": null,
      "outputs": []
    },
    {
      "cell_type": "markdown",
      "source": [
        "Exponent and Assign (**=): Applies exponentiation and assigns a value to a variable.\n"
      ],
      "metadata": {
        "id": "BJP305ueLT_p"
      }
    },
    {
      "cell_type": "code",
      "source": [
        "x **= 2  # Equivalent to x = x ** 2\n"
      ],
      "metadata": {
        "id": "ZFpLopNRLVb-"
      },
      "execution_count": null,
      "outputs": []
    },
    {
      "cell_type": "markdown",
      "source": [
        "Floor Divide and Assign (//=): Applies floor division and assigns a value to a variable."
      ],
      "metadata": {
        "id": "iWlP1pAHLZuj"
      }
    },
    {
      "cell_type": "code",
      "source": [
        "x //= 3  # Equivalent to x = x // 3\n"
      ],
      "metadata": {
        "id": "9dgN09jxLah4"
      },
      "execution_count": null,
      "outputs": []
    },
    {
      "cell_type": "markdown",
      "source": [
        "**6 Membership Operators**\n",
        "\n",
        "These operators test for membership in a sequence.\n",
        "\n",
        "In (in): Checks if a value is present in a sequence."
      ],
      "metadata": {
        "id": "Z_Z6GSQ_Lgmp"
      }
    },
    {
      "cell_type": "code",
      "source": [
        "x = 5\n",
        "result = x in [1, 2, 3, 4, 5]  # result is True\n"
      ],
      "metadata": {
        "id": "ClXnHExELllK"
      },
      "execution_count": null,
      "outputs": []
    },
    {
      "cell_type": "markdown",
      "source": [
        "Not In (not in): Checks if a value is not present in a sequence."
      ],
      "metadata": {
        "id": "f2OuSAUHLnuP"
      }
    },
    {
      "cell_type": "code",
      "source": [
        "x = 10\n",
        "result = x not in [1, 2, 3, 4, 5]  # result is True\n"
      ],
      "metadata": {
        "id": "fpVE8ngrLoov"
      },
      "execution_count": null,
      "outputs": []
    },
    {
      "cell_type": "markdown",
      "source": [
        "**7 Identity Operators**\n",
        "\n",
        "These operators compare the memory locations of two objects.\n",
        "\n",
        "Is (is): Checks if two variables point to the same object."
      ],
      "metadata": {
        "id": "WLoHuvGKLuWC"
      }
    },
    {
      "cell_type": "code",
      "source": [
        "x = [1, 2, 3]\n",
        "y = x\n",
        "result = x is y  # result is True\n"
      ],
      "metadata": {
        "id": "aiQHLexvL43b"
      },
      "execution_count": null,
      "outputs": []
    },
    {
      "cell_type": "markdown",
      "source": [
        "Is Not (is not): Checks if two variables point to different objects."
      ],
      "metadata": {
        "id": "kVoGhkHhL9L1"
      }
    },
    {
      "cell_type": "code",
      "source": [
        "x = [1, 2, 3]\n",
        "y = [1, 2, 3]\n",
        "result = x is not y  # result is True\n"
      ],
      "metadata": {
        "id": "vBNkh-tLL93S"
      },
      "execution_count": null,
      "outputs": []
    },
    {
      "cell_type": "markdown",
      "source": [
        "# Data types\n"
      ],
      "metadata": {
        "id": "cxC7-Uk7MnhP"
      }
    },
    {
      "cell_type": "markdown",
      "source": [
        "In Python, data types define the kind of data that can be stored and manipulated within a program. Here’s an overview of the fundamental data types in Python:\n",
        "\n",
        "**1. Numeric Types**\n",
        "\n",
        "Integer (int): Whole numbers without a decimal point."
      ],
      "metadata": {
        "id": "h1Tiig5GMqaN"
      }
    },
    {
      "cell_type": "code",
      "source": [
        "age = 25\n"
      ],
      "metadata": {
        "id": "965zYuqiMzEP"
      },
      "execution_count": null,
      "outputs": []
    },
    {
      "cell_type": "markdown",
      "source": [
        "Float (float): Numbers with a decimal point."
      ],
      "metadata": {
        "id": "mmwzKaBuM08Y"
      }
    },
    {
      "cell_type": "code",
      "source": [
        "temperature = 23.5\n"
      ],
      "metadata": {
        "id": "Kp1ADGQ8M3Jx"
      },
      "execution_count": null,
      "outputs": []
    },
    {
      "cell_type": "markdown",
      "source": [
        "Complex (complex): Numbers with a real and imaginary part.z = 2 + 3j\n"
      ],
      "metadata": {
        "id": "9BoMF-C-M6rH"
      }
    },
    {
      "cell_type": "code",
      "source": [],
      "metadata": {
        "id": "6TuaysPwM9c4"
      },
      "execution_count": null,
      "outputs": []
    },
    {
      "cell_type": "code",
      "source": [
        "z = 2 + 3j\n"
      ],
      "metadata": {
        "id": "sC3DIiBiM9pE"
      },
      "execution_count": null,
      "outputs": []
    },
    {
      "cell_type": "markdown",
      "source": [
        "**2. Sequence Types**\n",
        "\n",
        "String (str): A sequence of characters enclosed in single, double, or triple quotes."
      ],
      "metadata": {
        "id": "YAjkht44M-lW"
      }
    },
    {
      "cell_type": "code",
      "source": [
        "name = \"Alice\"\n",
        "multiline_string = \"\"\"This is a\n",
        "multiline string.\"\"\"\n"
      ],
      "metadata": {
        "id": "xr0FI2zSNDdW"
      },
      "execution_count": null,
      "outputs": []
    },
    {
      "cell_type": "markdown",
      "source": [
        "List (list): An ordered, mutable collection of items."
      ],
      "metadata": {
        "id": "gw83DcsRNF47"
      }
    },
    {
      "cell_type": "code",
      "source": [
        "numbers = [1, 2, 3, 4, 5]\n"
      ],
      "metadata": {
        "id": "wW8aIBHRNGyU"
      },
      "execution_count": null,
      "outputs": []
    },
    {
      "cell_type": "markdown",
      "source": [
        "Tuple (tuple): An ordered, immutable collection of items."
      ],
      "metadata": {
        "id": "TONbWO9FNJkd"
      }
    },
    {
      "cell_type": "code",
      "source": [
        "coordinates = (10, 20)\n"
      ],
      "metadata": {
        "id": "wnoU4ycTNQf7"
      },
      "execution_count": null,
      "outputs": []
    },
    {
      "cell_type": "markdown",
      "source": [
        "**4Set Types**\n",
        "\n",
        "Set (set): An unordered collection of unique items."
      ],
      "metadata": {
        "id": "IG1reNsoNXj1"
      }
    },
    {
      "cell_type": "code",
      "source": [
        "unique_numbers = {1, 2, 3, 4, 5}\n"
      ],
      "metadata": {
        "id": "iagjHQJCNcTm"
      },
      "execution_count": null,
      "outputs": []
    },
    {
      "cell_type": "markdown",
      "source": [
        "**5. Boolean Type**\n",
        "\n",
        "Boolean (bool): Represents True or False"
      ],
      "metadata": {
        "id": "I3VUq0kRNimu"
      }
    },
    {
      "cell_type": "code",
      "source": [
        "is_active = True\n"
      ],
      "metadata": {
        "id": "UpTZNID0Nnfk"
      },
      "execution_count": null,
      "outputs": []
    },
    {
      "cell_type": "markdown",
      "source": [
        "# Conditional statements"
      ],
      "metadata": {
        "id": "fXrXMFOnOWP3"
      }
    },
    {
      "cell_type": "markdown",
      "source": [
        "Conditional statements in Python allow you to execute different blocks of code based on certain conditions. They help in making decisions in your code. Here’s a summary of the primary conditional statements in Python:\n",
        "\n",
        "**1. if Statement**\n",
        "\n",
        "The if statement evaluates a condition (an expression that returns True or False) and executes the block of code inside it if the condition is True."
      ],
      "metadata": {
        "id": "DTjIdxsNOX8N"
      }
    },
    {
      "cell_type": "markdown",
      "source": [
        "# syntax"
      ],
      "metadata": {
        "id": "L9kUpik5PKTz"
      }
    },
    {
      "cell_type": "code",
      "source": [
        "if condition:\n",
        "    # Code to execute if condition is True\n"
      ],
      "metadata": {
        "id": "UoxfsNkAPMH7"
      },
      "execution_count": null,
      "outputs": []
    },
    {
      "cell_type": "code",
      "source": [
        "x = 10\n",
        "\n",
        "if x > 5:\n",
        "    print(\"x is greater than 5\")\n"
      ],
      "metadata": {
        "id": "1vzRg6BUOpyj",
        "colab": {
          "base_uri": "https://localhost:8080/"
        },
        "outputId": "ab3879ae-254a-43d6-afe2-de70768e051d"
      },
      "execution_count": null,
      "outputs": [
        {
          "output_type": "stream",
          "name": "stdout",
          "text": [
            "x is greater than 5\n"
          ]
        }
      ]
    },
    {
      "cell_type": "markdown",
      "source": [
        "**2. if-else Statement**\n",
        "\n",
        "The if-else statement provides an alternative block of code to execute when the condition is False."
      ],
      "metadata": {
        "id": "SV5BbKXGOi9p"
      }
    },
    {
      "cell_type": "markdown",
      "source": [
        "# syntax"
      ],
      "metadata": {
        "id": "TmhOpsqFPTLh"
      }
    },
    {
      "cell_type": "code",
      "source": [
        "if condition:\n",
        "    # Code to execute if condition is True\n",
        "else:\n",
        "    # Code to execute if condition is False\n"
      ],
      "metadata": {
        "id": "QwgXyWj0PSkm"
      },
      "execution_count": null,
      "outputs": []
    },
    {
      "cell_type": "code",
      "source": [
        "x = 4\n",
        "\n",
        "if x > 5:\n",
        "    print(\"x is greater than 5\")\n",
        "else:\n",
        "    print(\"x is 5 or less\")\n"
      ],
      "metadata": {
        "id": "E91d17jmOrmf"
      },
      "execution_count": null,
      "outputs": []
    },
    {
      "cell_type": "markdown",
      "source": [
        "**3. if-elif-else Statement**\n",
        "\n",
        "The if-elif-else statement allows you to check multiple conditions sequentially. If the if condition is False, it checks the elif conditions. If none of the conditions are True, it executes the else block."
      ],
      "metadata": {
        "id": "7tIltzCcOtx1"
      }
    },
    {
      "cell_type": "markdown",
      "source": [
        "## syntax"
      ],
      "metadata": {
        "id": "wmYcM965PaCD"
      }
    },
    {
      "cell_type": "code",
      "source": [
        "if condition1:\n",
        "    # Code to execute if condition1 is True\n",
        "elif condition2:\n",
        "    # Code to execute if condition2 is True\n",
        "else:\n",
        "    # Code to execute if none of the conditions are True\n"
      ],
      "metadata": {
        "id": "NktqyZOBPind"
      },
      "execution_count": null,
      "outputs": []
    },
    {
      "cell_type": "code",
      "source": [
        "x = 7\n",
        "\n",
        "if x > 10:\n",
        "    print(\"x is greater than 10\")\n",
        "elif x > 5:\n",
        "    print(\"x is greater than 5 but not greater than 10\")\n",
        "else:\n",
        "    print(\"x is 5 or less\")\n"
      ],
      "metadata": {
        "id": "UL7X3P8CPk_T"
      },
      "execution_count": null,
      "outputs": []
    },
    {
      "cell_type": "markdown",
      "source": [
        "**4. Nested if Statements**\n",
        "\n",
        "You can nest if statements inside other if statements to handle more complex scenarios."
      ],
      "metadata": {
        "id": "Q1peN_xLO0vg"
      }
    },
    {
      "cell_type": "markdown",
      "source": [
        "# syntax"
      ],
      "metadata": {
        "id": "kmTn-m9JPbWe"
      }
    },
    {
      "cell_type": "code",
      "source": [
        "if condition1:\n",
        "    # Code to execute if condition1 is True\n",
        "    if condition2:\n",
        "        # Code to execute if condition2 is True\n",
        "    else:\n",
        "        # Code to execute if condition2 is False\n",
        "else:\n",
        "    # Code to execute if condition1 is False\n"
      ],
      "metadata": {
        "id": "d2WeD3c_Pp6f"
      },
      "execution_count": null,
      "outputs": []
    },
    {
      "cell_type": "code",
      "source": [
        "x = 8\n",
        "y = 12\n",
        "\n",
        "if x > 5:\n",
        "    if y > 10:\n",
        "        print(\"x is greater than 5 and y is greater than 10\")\n",
        "    else:\n",
        "        print(\"x is greater than 5 but y is 10 or less\")\n",
        "else:\n",
        "    print(\"x is 5 or less\")\n"
      ],
      "metadata": {
        "id": "Tp_jqYLvO4f6"
      },
      "execution_count": null,
      "outputs": []
    },
    {
      "cell_type": "markdown",
      "source": [
        "# ***LOOPS***\n",
        "\n",
        "In Python, loops are used to repeat a block of code multiple times. Python has two main types of loops: for loops and while loops.\n",
        "\n",
        "# ***`1. For Loop`***\n",
        "The for loop in Python is used to iterate over a sequence (like a list, tuple, dictionary, set, or string).\n",
        "\n",
        "# ***Example*** : Iterating Over a List"
      ],
      "metadata": {
        "id": "bq1LCbgJh65l"
      }
    },
    {
      "cell_type": "code",
      "source": [
        "# List of fruits\n",
        "fruits = [\"apple\", \"banana\", \"cherry\"]\n",
        "\n",
        "# For loop to iterate over the list\n",
        "for fruit in fruits:\n",
        "    print(fruit)\n"
      ],
      "metadata": {
        "id": "mdhzV5SniYrq",
        "outputId": "d6636a2e-5633-495b-e623-e9bd347c436a",
        "colab": {
          "base_uri": "https://localhost:8080/"
        }
      },
      "execution_count": null,
      "outputs": [
        {
          "output_type": "stream",
          "name": "stdout",
          "text": [
            "apple\n",
            "banana\n",
            "cherry\n"
          ]
        }
      ]
    },
    {
      "cell_type": "markdown",
      "source": [
        "# ***2. While Loop***\n",
        "The while loop in Python continues executing the block of code as long as the condition is true.\n",
        "\n",
        "# ***Example:*** *Printing Numbers from 1 to 5*"
      ],
      "metadata": {
        "id": "EP0GwnGxiqzW"
      }
    },
    {
      "cell_type": "code",
      "source": [
        "# Initialize counter\n",
        "counter = 1\n",
        "\n",
        "# While loop to print numbers from 1 to 5\n",
        "while counter <= 5:\n",
        "    print(counter)\n",
        "    counter += 1\n"
      ],
      "metadata": {
        "id": "sMEklBifjD0O",
        "outputId": "c91ddb0a-2d16-4b4d-f7b4-36fc2f6b2feb",
        "colab": {
          "base_uri": "https://localhost:8080/"
        }
      },
      "execution_count": null,
      "outputs": [
        {
          "output_type": "stream",
          "name": "stdout",
          "text": [
            "1\n",
            "2\n",
            "3\n",
            "4\n",
            "5\n"
          ]
        }
      ]
    },
    {
      "cell_type": "markdown",
      "source": [
        "# ***3. Nested Loops***\n",
        "You can also use loops inside loops (nested loops).\n",
        "\n",
        "# ***`Example:*** Nested For Loop"
      ],
      "metadata": {
        "id": "t5FUpsL2jKlO"
      }
    },
    {
      "cell_type": "code",
      "source": [
        "# Nested for loop to print a pattern\n",
        "for i in range(1, 4):  # Outer loop\n",
        "    for j in range(i):  # Inner loop\n",
        "        print(\"*\", end=\"\")\n",
        "    print()  # Newline after each row\n"
      ],
      "metadata": {
        "id": "oBbj2j5ljYPD",
        "outputId": "b4d798b4-400e-49f8-f87d-44b6a815e3a0",
        "colab": {
          "base_uri": "https://localhost:8080/"
        }
      },
      "execution_count": null,
      "outputs": [
        {
          "output_type": "stream",
          "name": "stdout",
          "text": [
            "*\n",
            "**\n",
            "***\n"
          ]
        }
      ]
    },
    {
      "cell_type": "markdown",
      "source": [
        "# ***4. Loop Control Statements***\n",
        "Python also provides loop control statements like break, continue, and pass to control the flow of the loops.\n",
        "\n",
        "# ***`Example:*** *Using break to Exit a Loop*"
      ],
      "metadata": {
        "id": "lLBpGXY4jfXd"
      }
    },
    {
      "cell_type": "code",
      "source": [
        "# Break example\n",
        "for i in range(1, 10):\n",
        "    if i == 5:\n",
        "        break  # Exit loop when i is 5\n",
        "    print(i)\n"
      ],
      "metadata": {
        "id": "h77An3-8kEp7",
        "outputId": "46159ef3-2d17-4d4d-8a82-e41dc50d60f6",
        "colab": {
          "base_uri": "https://localhost:8080/"
        }
      },
      "execution_count": null,
      "outputs": [
        {
          "output_type": "stream",
          "name": "stdout",
          "text": [
            "1\n",
            "2\n",
            "3\n",
            "4\n"
          ]
        }
      ]
    },
    {
      "cell_type": "markdown",
      "source": [
        "# ***`Example: Using continue to Skip an Iteration`***"
      ],
      "metadata": {
        "id": "EzhWZZ8MkKZn"
      }
    },
    {
      "cell_type": "code",
      "source": [
        "# Continue example\n",
        "for i in range(1, 6):\n",
        "    if i == 3:\n",
        "        continue  # Skip the iteration when i is 3\n",
        "    print(i)\n"
      ],
      "metadata": {
        "id": "7Iv9pF4skT9b",
        "outputId": "d3a56248-1d0c-4771-f29b-ca4ce1bcb791",
        "colab": {
          "base_uri": "https://localhost:8080/"
        }
      },
      "execution_count": null,
      "outputs": [
        {
          "output_type": "stream",
          "name": "stdout",
          "text": [
            "1\n",
            "2\n",
            "4\n",
            "5\n"
          ]
        }
      ]
    },
    {
      "cell_type": "markdown",
      "source": [
        "The pass statement in Python is a null operation; it is a placeholder that does nothing when executed. It's often used in situations where the code structure requires a statement but you don’t want to execute anything.\n",
        "\n",
        "# ***`Example: Using pass in a Loop`***"
      ],
      "metadata": {
        "id": "rO1UwJmgkoie"
      }
    },
    {
      "cell_type": "code",
      "source": [
        "# Loop through numbers 1 to 5\n",
        "for i in range(1, 6):\n",
        "    if i == 3:\n",
        "        pass  # Do nothing when i is 3\n",
        "    else:\n",
        "        print(i)\n"
      ],
      "metadata": {
        "id": "AD1dpyqfkr-M",
        "outputId": "858c0187-a669-481e-9d52-6bf067cd5a95",
        "colab": {
          "base_uri": "https://localhost:8080/"
        }
      },
      "execution_count": null,
      "outputs": [
        {
          "output_type": "stream",
          "name": "stdout",
          "text": [
            "1\n",
            "2\n",
            "4\n",
            "5\n"
          ]
        }
      ]
    },
    {
      "cell_type": "markdown",
      "source": [
        "# ***FUNCTIONS***\n",
        "\n",
        "Functions in Python are blocks of reusable code that perform a specific task. They allow you to organize your code, reduce redundancy, and make your programs more modular.\n",
        "\n",
        "Functions are a fundamental part of Python that allows you to write reusable, organized, and modular code. By defining functions, you can avoid code repetition, make your code more readable, and simplify debugging and maintenance.\n",
        "\n",
        "# **`*Defining a Function*`**\n",
        "In Python, functions are defined using the def keyword followed by the function name and parentheses. The code block within every function starts with a colon (:) and is indented.\n",
        "\n",
        "# **`Example: Basic Function`**"
      ],
      "metadata": {
        "id": "EsPIXXHbkz_J"
      }
    },
    {
      "cell_type": "code",
      "source": [
        "def greet():\n",
        "    print(\"Hello, world!\")\n"
      ],
      "metadata": {
        "id": "bNkRacMjn_Be"
      },
      "execution_count": null,
      "outputs": []
    },
    {
      "cell_type": "markdown",
      "source": [
        "In this example, greet is a function that prints \"Hello, world!\" when called.\n",
        "\n",
        "# ***Calling a Function***\n",
        "To execute a function, you call it by its name followed by parentheses."
      ],
      "metadata": {
        "id": "I2zneQcKoHoF"
      }
    },
    {
      "cell_type": "code",
      "source": [
        "greet()\n"
      ],
      "metadata": {
        "id": "2GwNj6KboLGX",
        "outputId": "b0fc098f-c8b8-4e43-e801-b8b92f7b9aeb",
        "colab": {
          "base_uri": "https://localhost:8080/"
        }
      },
      "execution_count": null,
      "outputs": [
        {
          "output_type": "stream",
          "name": "stdout",
          "text": [
            "Hello, world!\n"
          ]
        }
      ]
    },
    {
      "cell_type": "markdown",
      "source": [
        "# ***Function Parameters and Arguments***\n",
        "Functions can take parameters, which allow you to pass values into the function."
      ],
      "metadata": {
        "id": "jHdm9hT3ohyx"
      }
    },
    {
      "cell_type": "code",
      "source": [
        "def greet(name):\n",
        "    print(f\"Hello, {name}!\")\n",
        "\n",
        "greet(\"Alice\")\n"
      ],
      "metadata": {
        "id": "6Y0gFg23oq-7",
        "outputId": "905ecf16-d5a0-4811-e411-8cc414278c35",
        "colab": {
          "base_uri": "https://localhost:8080/"
        }
      },
      "execution_count": null,
      "outputs": [
        {
          "output_type": "stream",
          "name": "stdout",
          "text": [
            "Hello, Alice!\n"
          ]
        }
      ]
    },
    {
      "cell_type": "markdown",
      "source": [
        "In this example, name is a parameter, and \"Alice\" is an argument passed to the greet function.\n",
        "\n",
        "# ***Default Parameters***\n",
        "You can provide default values for parameters, which are used if no argument is passed."
      ],
      "metadata": {
        "id": "lB04S7h-ouYY"
      }
    },
    {
      "cell_type": "code",
      "source": [
        "def greet(name=\"stranger\"):\n",
        "    print(f\"Hello, {name}!\")\n",
        "\n",
        "greet()  # Output: Hello, stranger!\n",
        "greet(\"Bob\")  # Output: Hello, Bob!\n"
      ],
      "metadata": {
        "id": "5hxcQuUDo17k",
        "outputId": "10971364-5ec5-4e3a-b04e-123591a0009d",
        "colab": {
          "base_uri": "https://localhost:8080/"
        }
      },
      "execution_count": null,
      "outputs": [
        {
          "output_type": "stream",
          "name": "stdout",
          "text": [
            "Hello, stranger!\n",
            "Hello, Bob!\n"
          ]
        }
      ]
    },
    {
      "cell_type": "markdown",
      "source": [
        "# ***Returning Values***\n",
        "Functions can return values using the return statement."
      ],
      "metadata": {
        "id": "HjHBY2fXo67I"
      }
    },
    {
      "cell_type": "code",
      "source": [
        "def add(a, b):\n",
        "    return a + b\n",
        "\n",
        "result = add(3, 4)\n",
        "print(result)\n"
      ],
      "metadata": {
        "id": "6ByLoEE3pBF5",
        "outputId": "b57d62e4-a3c2-4dc7-f8c4-24ec70792989",
        "colab": {
          "base_uri": "https://localhost:8080/"
        }
      },
      "execution_count": null,
      "outputs": [
        {
          "output_type": "stream",
          "name": "stdout",
          "text": [
            "7\n"
          ]
        }
      ]
    },
    {
      "cell_type": "markdown",
      "source": [
        "# ***Function with Multiple Return Values***\n",
        "A function can return multiple values, which are typically returned as a tuple."
      ],
      "metadata": {
        "id": "v9wXF5sspE9P"
      }
    },
    {
      "cell_type": "code",
      "source": [
        "def get_name_and_age():\n",
        "    name = \"Alice\"\n",
        "    age = 30\n",
        "    return name, age\n",
        "\n",
        "name, age = get_name_and_age()\n",
        "print(name)  # Output: Alice\n",
        "print(age)   # Output: 30\n"
      ],
      "metadata": {
        "id": "EKZFHqsKpKct",
        "outputId": "a37ca547-83a8-4da0-fdf7-3a81da32e613",
        "colab": {
          "base_uri": "https://localhost:8080/"
        }
      },
      "execution_count": null,
      "outputs": [
        {
          "output_type": "stream",
          "name": "stdout",
          "text": [
            "Alice\n",
            "30\n"
          ]
        }
      ]
    },
    {
      "cell_type": "markdown",
      "source": [
        "# ***Lambda Functions***\n",
        "Python also supports anonymous functions, also known as lambda functions, which are defined using the lambda keyword."
      ],
      "metadata": {
        "id": "2S_VljBwpPxk"
      }
    },
    {
      "cell_type": "code",
      "source": [
        "add = lambda x, y: x + y\n",
        "print(add(5, 3))  # Output: 8\n"
      ],
      "metadata": {
        "id": "OrWeKPJOpURy",
        "outputId": "8ca489ac-3a3a-481d-ac42-95a196bd6567",
        "colab": {
          "base_uri": "https://localhost:8080/"
        }
      },
      "execution_count": null,
      "outputs": [
        {
          "output_type": "stream",
          "name": "stdout",
          "text": [
            "8\n"
          ]
        }
      ]
    },
    {
      "cell_type": "markdown",
      "source": [
        "Lambda functions are often used for short, simple operations and are limited to a single expression.\n",
        "\n",
        "# ***Recursion***\n",
        "A function can call itself, a process known as recursion. Recursion is useful for problems that can be broken down into smaller, similar problems."
      ],
      "metadata": {
        "id": "KFWC3qXUpXy2"
      }
    },
    {
      "cell_type": "code",
      "source": [
        "def factorial(n):\n",
        "    if n == 1:\n",
        "        return 1\n",
        "    else:\n",
        "        return n * factorial(n - 1)\n",
        "\n",
        "print(factorial(5))  # Output: 120\n"
      ],
      "metadata": {
        "id": "eMiHzVuHpdot",
        "outputId": "cd923c4d-8edd-45ba-e784-26d7a2b01250",
        "colab": {
          "base_uri": "https://localhost:8080/"
        }
      },
      "execution_count": null,
      "outputs": [
        {
          "output_type": "stream",
          "name": "stdout",
          "text": [
            "120\n"
          ]
        }
      ]
    },
    {
      "cell_type": "markdown",
      "source": [
        "In this example, the factorial function calls itself to compute the factorial of a number."
      ],
      "metadata": {
        "id": "PWrSdZcIph8O"
      }
    },
    {
      "cell_type": "markdown",
      "source": [
        "# ***STRINGS***\n",
        "In Python, strings are sequences of characters used to store and manipulate text.\n",
        "\n",
        "They are one of the most commonly used data types and can be enclosed in single ('), double (\"), or triple quotes (''' or \"\"\"). Here’s an overview of how strings work in Python, including some basic operations and examples.\n",
        "\n",
        "# ***Creating Strings***"
      ],
      "metadata": {
        "id": "trdad12Upwhb"
      }
    },
    {
      "cell_type": "code",
      "source": [
        "# Single quotes\n",
        "single_quote_str = 'Hello, World!'\n",
        "\n",
        "# Double quotes\n",
        "double_quote_str = \"Hello, World!\"\n",
        "\n",
        "# Triple quotes (for multi-line strings)\n",
        "triple_quote_str = \"\"\"This is a multi-line string.\n",
        "It spans multiple lines.\"\"\"\n"
      ],
      "metadata": {
        "id": "CIx4jQusqcUE"
      },
      "execution_count": null,
      "outputs": []
    },
    {
      "cell_type": "markdown",
      "source": [
        "# ***String Operations***\n",
        "# ***`Concatenation:*** Combine strings using the + operator."
      ],
      "metadata": {
        "id": "PdGuYhQ_qgZo"
      }
    },
    {
      "cell_type": "code",
      "source": [
        "str1 = \"Hello\"\n",
        "str2 = \"World\"\n",
        "result = str1 + \" \" + str2  # Output: \"Hello World\"\n"
      ],
      "metadata": {
        "id": "cqtUYE6Equ5W"
      },
      "execution_count": null,
      "outputs": []
    },
    {
      "cell_type": "markdown",
      "source": [
        "# ***`Repetition: `***\n",
        "Repeat strings using the * operator."
      ],
      "metadata": {
        "id": "92WFagYEq1gp"
      }
    },
    {
      "cell_type": "code",
      "source": [
        "repeated_str = \"Hello \" * 3  # Output: \"Hello Hello Hello \"\n"
      ],
      "metadata": {
        "id": "YsadtBdWq_4q"
      },
      "execution_count": null,
      "outputs": []
    },
    {
      "cell_type": "markdown",
      "source": [
        "# ***Indexing:***\n",
        " Access individual characters using indexing"
      ],
      "metadata": {
        "id": "tObOHHzmrFWl"
      }
    },
    {
      "cell_type": "code",
      "source": [
        "text = \"Python\"\n",
        "first_char = text[0]  # Output: 'P'\n",
        "last_char = text[-1]  # Output: 'n'\n"
      ],
      "metadata": {
        "id": "mRgtq6NwrPcF"
      },
      "execution_count": null,
      "outputs": []
    },
    {
      "cell_type": "markdown",
      "source": [
        "# ***`Slicing: `***\n",
        "Extract a substring using slicing."
      ],
      "metadata": {
        "id": "vlN-a6rorTr-"
      }
    },
    {
      "cell_type": "code",
      "source": [
        "text = \"Python Programming\"\n",
        "substring = text[0:6]  # Output: 'Python'\n"
      ],
      "metadata": {
        "id": "MzoKOWQurauZ"
      },
      "execution_count": null,
      "outputs": []
    },
    {
      "cell_type": "markdown",
      "source": [
        "# ***`String Length:`***\n",
        " Get the length of a string using the len() function."
      ],
      "metadata": {
        "id": "isfhx9a3rgij"
      }
    },
    {
      "cell_type": "code",
      "source": [
        "text = \"Hello, World!\"\n",
        "length = len(text)  # Output: 13\n"
      ],
      "metadata": {
        "id": "qZZURDfZrnWa"
      },
      "execution_count": null,
      "outputs": []
    },
    {
      "cell_type": "markdown",
      "source": [
        "# ***String Methods***\n",
        "Python provides many built-in methods to manipulate strings:\n",
        "\n",
        "# ***`lower():`***\n",
        " Converts the string to lowercase."
      ],
      "metadata": {
        "id": "04h1J-IIrqtQ"
      }
    },
    {
      "cell_type": "code",
      "source": [
        "text = \"HELLO\"\n",
        "print(text.lower())  # Output: \"hello\"\n"
      ],
      "metadata": {
        "id": "lpCgd0oCr0BP",
        "outputId": "e4ff2d27-de84-49dc-bdd6-e7d0d274174e",
        "colab": {
          "base_uri": "https://localhost:8080/"
        }
      },
      "execution_count": null,
      "outputs": [
        {
          "output_type": "stream",
          "name": "stdout",
          "text": [
            "hello\n"
          ]
        }
      ]
    },
    {
      "cell_type": "markdown",
      "source": [
        "# ***`upper(): `***\n",
        "Converts the string to uppercase."
      ],
      "metadata": {
        "id": "EvNu_NAHr3QN"
      }
    },
    {
      "cell_type": "code",
      "source": [
        "text = \"hello\"\n",
        "print(text.upper())  # Output: \"HELLO\"\n"
      ],
      "metadata": {
        "id": "duA4YWc6r9Zq",
        "outputId": "c67cd6f9-1404-4ab1-bff8-749c2272ea96",
        "colab": {
          "base_uri": "https://localhost:8080/"
        }
      },
      "execution_count": null,
      "outputs": [
        {
          "output_type": "stream",
          "name": "stdout",
          "text": [
            "HELLO\n"
          ]
        }
      ]
    },
    {
      "cell_type": "markdown",
      "source": [
        "# ***`strip():`***\n",
        " Removes leading and trailing whitespace."
      ],
      "metadata": {
        "id": "5j22RV4osA-A"
      }
    },
    {
      "cell_type": "code",
      "source": [
        "text = \"  Hello, World!  \"\n",
        "print(text.strip())  # Output: \"Hello, World!\"\n"
      ],
      "metadata": {
        "id": "KiirziOisHM1",
        "outputId": "70e4e835-cef4-4a09-f080-0f1c850a54f6",
        "colab": {
          "base_uri": "https://localhost:8080/"
        }
      },
      "execution_count": null,
      "outputs": [
        {
          "output_type": "stream",
          "name": "stdout",
          "text": [
            "Hello, World!\n"
          ]
        }
      ]
    },
    {
      "cell_type": "markdown",
      "source": [
        "# ***`split():`***\n",
        " Splits the string into a list based on a delimiter."
      ],
      "metadata": {
        "id": "9JAt_E6usK9K"
      }
    },
    {
      "cell_type": "code",
      "source": [
        "text = \"Hello World\"\n",
        "words = text.split()  # Output: ['Hello', 'World']\n"
      ],
      "metadata": {
        "id": "fEUy10_wsR7w"
      },
      "execution_count": null,
      "outputs": []
    },
    {
      "cell_type": "markdown",
      "source": [
        "# ***`replace():`***\n",
        " Replaces a substring with another substring."
      ],
      "metadata": {
        "id": "PdCRycGIsV1y"
      }
    },
    {
      "cell_type": "code",
      "source": [
        "text = \"Hello, World!\"\n",
        "new_text = text.replace(\"World\", \"Python\")  # Output: \"Hello, Python!\"\n"
      ],
      "metadata": {
        "id": "UGiRLOR9seIQ"
      },
      "execution_count": null,
      "outputs": []
    },
    {
      "cell_type": "markdown",
      "source": [
        "# ***`find():`***\n",
        " Returns the index of the first occurrence of a substring."
      ],
      "metadata": {
        "id": "_uSYPg5ksizx"
      }
    },
    {
      "cell_type": "code",
      "source": [
        "text = \"Hello, World!\"\n",
        "index = text.find(\"World\")  # Output: 7\n"
      ],
      "metadata": {
        "id": "jwkQG3ErsqwS"
      },
      "execution_count": null,
      "outputs": []
    },
    {
      "cell_type": "markdown",
      "source": [
        "# ***Multi-line Strings***\n",
        "Multi-line strings are often used for docstrings or when the text spans multiple lines."
      ],
      "metadata": {
        "id": "FVapH3yWsvNA"
      }
    },
    {
      "cell_type": "code",
      "source": [
        "multi_line_str = \"\"\"This is a string\n",
        "that spans multiple\n",
        "lines.\"\"\"\n"
      ],
      "metadata": {
        "id": "OmGv6aH2s1HS"
      },
      "execution_count": null,
      "outputs": []
    },
    {
      "cell_type": "markdown",
      "source": [
        "# ***String Formatting***\n",
        "You can format strings using f-strings (Python 3.6+), the format() method, or the % operator.\n",
        "\n",
        "# ***`f-Strings:`***"
      ],
      "metadata": {
        "id": "g-MztPvos8Xi"
      }
    },
    {
      "cell_type": "code",
      "source": [
        "name = \"John\"\n",
        "age = 30\n",
        "greeting = f\"Hello, my name is {name} and I am {age} years old.\"\n",
        "# Output: \"Hello, my name is John and I am 30 years old.\"\n"
      ],
      "metadata": {
        "id": "CNlBNkgCtADr"
      },
      "execution_count": null,
      "outputs": []
    },
    {
      "cell_type": "markdown",
      "source": [
        "format() Method:"
      ],
      "metadata": {
        "id": "jKHH519qtEDO"
      }
    },
    {
      "cell_type": "code",
      "source": [
        "greeting = \"Hello, my name is {} and I am {} years old.\".format(name, age)\n"
      ],
      "metadata": {
        "id": "Z9cn7NZftIGj"
      },
      "execution_count": null,
      "outputs": []
    },
    {
      "cell_type": "markdown",
      "source": [
        "% Operator:"
      ],
      "metadata": {
        "id": "DrTOL-mDtLjm"
      }
    },
    {
      "cell_type": "code",
      "source": [
        "greeting = \"Hello, my name is %s and I am %d years old.\" % (name, age)\n"
      ],
      "metadata": {
        "id": "QFGxakC0tOPq"
      },
      "execution_count": null,
      "outputs": []
    },
    {
      "cell_type": "markdown",
      "source": [
        "Strings in Python are immutable, meaning they cannot be changed after they are created. To modify a string, a new string must be created."
      ],
      "metadata": {
        "id": "3Ae2keZOtRsh"
      }
    }
  ]
}